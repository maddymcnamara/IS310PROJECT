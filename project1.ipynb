{
 "cells": [
  {
   "cell_type": "markdown",
   "metadata": {},
   "source": [
    "# Project 1: Counting words in college subreddits"
   ]
  },
  {
   "cell_type": "markdown",
   "metadata": {},
   "source": [
    "Due 9/16. Reminder that you are allowed to use any amount of AI assistance or outside resources with citation"
   ]
  },
  {
   "cell_type": "markdown",
   "metadata": {},
   "source": [
    "## Part 1: word counting and bag of words"
   ]
  },
  {
   "cell_type": "code",
   "execution_count": 2,
   "metadata": {},
   "outputs": [
    {
     "name": "stdout",
     "output_type": "stream",
     "text": [
      "Requirement already satisfied: spacy in /Users/madelynmcnamara/miniconda3/lib/python3.11/site-packages (3.8.4)\n",
      "Requirement already satisfied: spacy-legacy<3.1.0,>=3.0.11 in /Users/madelynmcnamara/miniconda3/lib/python3.11/site-packages (from spacy) (3.0.12)\n",
      "Requirement already satisfied: spacy-loggers<2.0.0,>=1.0.0 in /Users/madelynmcnamara/miniconda3/lib/python3.11/site-packages (from spacy) (1.0.5)\n",
      "Requirement already satisfied: murmurhash<1.1.0,>=0.28.0 in /Users/madelynmcnamara/miniconda3/lib/python3.11/site-packages (from spacy) (1.0.12)\n",
      "Requirement already satisfied: cymem<2.1.0,>=2.0.2 in /Users/madelynmcnamara/miniconda3/lib/python3.11/site-packages (from spacy) (2.0.11)\n",
      "Requirement already satisfied: preshed<3.1.0,>=3.0.2 in /Users/madelynmcnamara/miniconda3/lib/python3.11/site-packages (from spacy) (3.0.9)\n",
      "Requirement already satisfied: thinc<8.4.0,>=8.3.4 in /Users/madelynmcnamara/miniconda3/lib/python3.11/site-packages (from spacy) (8.3.4)\n",
      "Requirement already satisfied: wasabi<1.2.0,>=0.9.1 in /Users/madelynmcnamara/miniconda3/lib/python3.11/site-packages (from spacy) (1.1.3)\n",
      "Requirement already satisfied: srsly<3.0.0,>=2.4.3 in /Users/madelynmcnamara/miniconda3/lib/python3.11/site-packages (from spacy) (2.5.1)\n",
      "Requirement already satisfied: catalogue<2.1.0,>=2.0.6 in /Users/madelynmcnamara/miniconda3/lib/python3.11/site-packages (from spacy) (2.0.10)\n",
      "Requirement already satisfied: weasel<0.5.0,>=0.1.0 in /Users/madelynmcnamara/miniconda3/lib/python3.11/site-packages (from spacy) (0.4.1)\n",
      "Requirement already satisfied: typer<1.0.0,>=0.3.0 in /Users/madelynmcnamara/miniconda3/lib/python3.11/site-packages (from spacy) (0.15.1)\n",
      "Requirement already satisfied: tqdm<5.0.0,>=4.38.0 in /Users/madelynmcnamara/miniconda3/lib/python3.11/site-packages (from spacy) (4.65.0)\n",
      "Requirement already satisfied: numpy>=1.19.0 in /Users/madelynmcnamara/miniconda3/lib/python3.11/site-packages (from spacy) (1.24.2)\n",
      "Requirement already satisfied: requests<3.0.0,>=2.13.0 in /Users/madelynmcnamara/miniconda3/lib/python3.11/site-packages (from spacy) (2.31.0)\n",
      "Requirement already satisfied: pydantic!=1.8,!=1.8.1,<3.0.0,>=1.7.4 in /Users/madelynmcnamara/miniconda3/lib/python3.11/site-packages (from spacy) (2.10.6)\n",
      "Requirement already satisfied: jinja2 in /Users/madelynmcnamara/miniconda3/lib/python3.11/site-packages (from spacy) (3.1.2)\n",
      "Requirement already satisfied: setuptools in /Users/madelynmcnamara/miniconda3/lib/python3.11/site-packages (from spacy) (68.2.2)\n",
      "Requirement already satisfied: packaging>=20.0 in /Users/madelynmcnamara/miniconda3/lib/python3.11/site-packages (from spacy) (23.1)\n",
      "Requirement already satisfied: langcodes<4.0.0,>=3.2.0 in /Users/madelynmcnamara/miniconda3/lib/python3.11/site-packages (from spacy) (3.5.0)\n",
      "Requirement already satisfied: language-data>=1.2 in /Users/madelynmcnamara/miniconda3/lib/python3.11/site-packages (from langcodes<4.0.0,>=3.2.0->spacy) (1.3.0)\n",
      "Requirement already satisfied: annotated-types>=0.6.0 in /Users/madelynmcnamara/miniconda3/lib/python3.11/site-packages (from pydantic!=1.8,!=1.8.1,<3.0.0,>=1.7.4->spacy) (0.7.0)\n",
      "Requirement already satisfied: pydantic-core==2.27.2 in /Users/madelynmcnamara/miniconda3/lib/python3.11/site-packages (from pydantic!=1.8,!=1.8.1,<3.0.0,>=1.7.4->spacy) (2.27.2)\n",
      "Requirement already satisfied: typing-extensions>=4.12.2 in /Users/madelynmcnamara/miniconda3/lib/python3.11/site-packages (from pydantic!=1.8,!=1.8.1,<3.0.0,>=1.7.4->spacy) (4.12.2)\n",
      "Requirement already satisfied: charset-normalizer<4,>=2 in /Users/madelynmcnamara/miniconda3/lib/python3.11/site-packages (from requests<3.0.0,>=2.13.0->spacy) (2.0.4)\n",
      "Requirement already satisfied: idna<4,>=2.5 in /Users/madelynmcnamara/miniconda3/lib/python3.11/site-packages (from requests<3.0.0,>=2.13.0->spacy) (3.4)\n",
      "Requirement already satisfied: urllib3<3,>=1.21.1 in /Users/madelynmcnamara/miniconda3/lib/python3.11/site-packages (from requests<3.0.0,>=2.13.0->spacy) (1.26.18)\n",
      "Requirement already satisfied: certifi>=2017.4.17 in /Users/madelynmcnamara/miniconda3/lib/python3.11/site-packages (from requests<3.0.0,>=2.13.0->spacy) (2025.1.31)\n",
      "Requirement already satisfied: blis<1.3.0,>=1.2.0 in /Users/madelynmcnamara/miniconda3/lib/python3.11/site-packages (from thinc<8.4.0,>=8.3.4->spacy) (1.2.0)\n",
      "Requirement already satisfied: confection<1.0.0,>=0.0.1 in /Users/madelynmcnamara/miniconda3/lib/python3.11/site-packages (from thinc<8.4.0,>=8.3.4->spacy) (0.1.5)\n",
      "Requirement already satisfied: click>=8.0.0 in /Users/madelynmcnamara/miniconda3/lib/python3.11/site-packages (from typer<1.0.0,>=0.3.0->spacy) (8.1.8)\n",
      "Requirement already satisfied: shellingham>=1.3.0 in /Users/madelynmcnamara/miniconda3/lib/python3.11/site-packages (from typer<1.0.0,>=0.3.0->spacy) (1.5.4)\n",
      "Requirement already satisfied: rich>=10.11.0 in /Users/madelynmcnamara/miniconda3/lib/python3.11/site-packages (from typer<1.0.0,>=0.3.0->spacy) (13.9.4)\n",
      "Requirement already satisfied: cloudpathlib<1.0.0,>=0.7.0 in /Users/madelynmcnamara/miniconda3/lib/python3.11/site-packages (from weasel<0.5.0,>=0.1.0->spacy) (0.20.0)\n",
      "Requirement already satisfied: smart-open<8.0.0,>=5.2.1 in /Users/madelynmcnamara/miniconda3/lib/python3.11/site-packages (from weasel<0.5.0,>=0.1.0->spacy) (7.1.0)\n",
      "Requirement already satisfied: MarkupSafe>=2.0 in /Users/madelynmcnamara/miniconda3/lib/python3.11/site-packages (from jinja2->spacy) (2.1.3)\n",
      "Requirement already satisfied: marisa-trie>=1.1.0 in /Users/madelynmcnamara/miniconda3/lib/python3.11/site-packages (from language-data>=1.2->langcodes<4.0.0,>=3.2.0->spacy) (1.2.1)\n",
      "Requirement already satisfied: markdown-it-py>=2.2.0 in /Users/madelynmcnamara/miniconda3/lib/python3.11/site-packages (from rich>=10.11.0->typer<1.0.0,>=0.3.0->spacy) (3.0.0)\n",
      "Requirement already satisfied: pygments<3.0.0,>=2.13.0 in /Users/madelynmcnamara/miniconda3/lib/python3.11/site-packages (from rich>=10.11.0->typer<1.0.0,>=0.3.0->spacy) (2.15.1)\n",
      "Requirement already satisfied: wrapt in /Users/madelynmcnamara/miniconda3/lib/python3.11/site-packages (from smart-open<8.0.0,>=5.2.1->weasel<0.5.0,>=0.1.0->spacy) (1.17.2)\n",
      "Requirement already satisfied: mdurl~=0.1 in /Users/madelynmcnamara/miniconda3/lib/python3.11/site-packages (from markdown-it-py>=2.2.0->rich>=10.11.0->typer<1.0.0,>=0.3.0->spacy) (0.1.2)\n"
     ]
    }
   ],
   "source": [
    "#install spacy in the current conda environment\n",
    "!pip install spacy\n"
   ]
  },
  {
   "cell_type": "code",
   "execution_count": 3,
   "metadata": {},
   "outputs": [
    {
     "name": "stdout",
     "output_type": "stream",
     "text": [
      "Collecting en-core-web-sm==3.8.0\n",
      "  Downloading https://github.com/explosion/spacy-models/releases/download/en_core_web_sm-3.8.0/en_core_web_sm-3.8.0-py3-none-any.whl (12.8 MB)\n",
      "\u001b[2K     \u001b[90m━━━━━━━━━━━━━━━━━━━━━━━━━━━━━━━━━━━━━━━━\u001b[0m \u001b[32m12.8/12.8 MB\u001b[0m \u001b[31m21.0 MB/s\u001b[0m eta \u001b[36m0:00:00\u001b[0m00:01\u001b[0m00:01\u001b[0m\n",
      "\u001b[?25h\u001b[38;5;2m✔ Download and installation successful\u001b[0m\n",
      "You can now load the package via spacy.load('en_core_web_sm')\n"
     ]
    }
   ],
   "source": [
    "#download a small language model to help with cleaning tasks\n",
    "!python -m spacy download en_core_web_sm\n",
    "\n"
   ]
  },
  {
   "cell_type": "code",
   "execution_count": 4,
   "metadata": {},
   "outputs": [],
   "source": [
    "#import required libraries\n",
    "import pandas as pd\n",
    "from sklearn.feature_extraction.text import CountVectorizer\n",
    "import spacy\n",
    "language_model = spacy.load(\"en_core_web_sm\")\n",
    "import matplotlib.pyplot as plt\n",
    "import numpy as np"
   ]
  },
  {
   "cell_type": "markdown",
   "metadata": {},
   "source": [
    "### Problem 1 and example: common words in the Michigan subreddit"
   ]
  },
  {
   "cell_type": "code",
   "execution_count": 5,
   "metadata": {},
   "outputs": [],
   "source": [
    "#read the data from a csv file in the folder\n",
    "mich=pd.read_csv(\"umich.csv\")"
   ]
  },
  {
   "cell_type": "code",
   "execution_count": 6,
   "metadata": {},
   "outputs": [
    {
     "data": {
      "text/html": [
       "<div>\n",
       "<style scoped>\n",
       "    .dataframe tbody tr th:only-of-type {\n",
       "        vertical-align: middle;\n",
       "    }\n",
       "\n",
       "    .dataframe tbody tr th {\n",
       "        vertical-align: top;\n",
       "    }\n",
       "\n",
       "    .dataframe thead th {\n",
       "        text-align: right;\n",
       "    }\n",
       "</style>\n",
       "<table border=\"1\" class=\"dataframe\">\n",
       "  <thead>\n",
       "    <tr style=\"text-align: right;\">\n",
       "      <th></th>\n",
       "      <th>Unnamed: 0</th>\n",
       "      <th>date</th>\n",
       "      <th>post_votes</th>\n",
       "      <th>text</th>\n",
       "      <th>user</th>\n",
       "      <th>com_votes</th>\n",
       "    </tr>\n",
       "  </thead>\n",
       "  <tbody>\n",
       "    <tr>\n",
       "      <th>0</th>\n",
       "      <td>0</td>\n",
       "      <td>2024-09-04 15:33:20</td>\n",
       "      <td>2</td>\n",
       "      <td>Zingermans has a nice reuben, pretty pricey bu...</td>\n",
       "      <td>Suspicious-Bad703</td>\n",
       "      <td>2</td>\n",
       "    </tr>\n",
       "    <tr>\n",
       "      <th>1</th>\n",
       "      <td>1</td>\n",
       "      <td>2024-09-04 15:33:20</td>\n",
       "      <td>2</td>\n",
       "      <td>I really love Tomokun!</td>\n",
       "      <td>webstbre000</td>\n",
       "      <td>2</td>\n",
       "    </tr>\n",
       "    <tr>\n",
       "      <th>2</th>\n",
       "      <td>2</td>\n",
       "      <td>2024-09-04 15:33:20</td>\n",
       "      <td>2</td>\n",
       "      <td>The Seoul is pretty good I especially like the...</td>\n",
       "      <td>iaxlmao</td>\n",
       "      <td>1</td>\n",
       "    </tr>\n",
       "    <tr>\n",
       "      <th>3</th>\n",
       "      <td>3</td>\n",
       "      <td>2024-09-04 15:33:20</td>\n",
       "      <td>2</td>\n",
       "      <td>A lot of it depends on what type of food and w...</td>\n",
       "      <td>I-696</td>\n",
       "      <td>1</td>\n",
       "    </tr>\n",
       "    <tr>\n",
       "      <th>4</th>\n",
       "      <td>4</td>\n",
       "      <td>2024-09-04 14:32:17</td>\n",
       "      <td>1</td>\n",
       "      <td>You can book completely enclosed private study...</td>\n",
       "      <td>sneep_</td>\n",
       "      <td>2</td>\n",
       "    </tr>\n",
       "    <tr>\n",
       "      <th>...</th>\n",
       "      <td>...</td>\n",
       "      <td>...</td>\n",
       "      <td>...</td>\n",
       "      <td>...</td>\n",
       "      <td>...</td>\n",
       "      <td>...</td>\n",
       "    </tr>\n",
       "    <tr>\n",
       "      <th>8334</th>\n",
       "      <td>8334</td>\n",
       "      <td>2024-07-02 12:35:36</td>\n",
       "      <td>9</td>\n",
       "      <td>It isn’t a student org</td>\n",
       "      <td>Vibes_And_Smiles</td>\n",
       "      <td>1</td>\n",
       "    </tr>\n",
       "    <tr>\n",
       "      <th>8335</th>\n",
       "      <td>8335</td>\n",
       "      <td>2024-07-02 11:07:10</td>\n",
       "      <td>0</td>\n",
       "      <td>Life   \\nMatter   \\nLife's matter</td>\n",
       "      <td>tctu</td>\n",
       "      <td>8</td>\n",
       "    </tr>\n",
       "    <tr>\n",
       "      <th>8336</th>\n",
       "      <td>8336</td>\n",
       "      <td>2024-07-02 11:07:10</td>\n",
       "      <td>0</td>\n",
       "      <td>google</td>\n",
       "      <td>SUPERazkari</td>\n",
       "      <td>4</td>\n",
       "    </tr>\n",
       "    <tr>\n",
       "      <th>8337</th>\n",
       "      <td>8337</td>\n",
       "      <td>2024-07-02 11:07:10</td>\n",
       "      <td>0</td>\n",
       "      <td>That’s a hard question to answer for a set of ...</td>\n",
       "      <td>Own-Resident-3837</td>\n",
       "      <td>-1</td>\n",
       "    </tr>\n",
       "    <tr>\n",
       "      <th>8338</th>\n",
       "      <td>8338</td>\n",
       "      <td>2024-07-02 11:07:10</td>\n",
       "      <td>0</td>\n",
       "      <td>Not either one but instead why do people pick ...</td>\n",
       "      <td>No-Chemistry-6677</td>\n",
       "      <td>-4</td>\n",
       "    </tr>\n",
       "  </tbody>\n",
       "</table>\n",
       "<p>8339 rows × 6 columns</p>\n",
       "</div>"
      ],
      "text/plain": [
       "      Unnamed: 0                 date  post_votes   \n",
       "0              0  2024-09-04 15:33:20           2  \\\n",
       "1              1  2024-09-04 15:33:20           2   \n",
       "2              2  2024-09-04 15:33:20           2   \n",
       "3              3  2024-09-04 15:33:20           2   \n",
       "4              4  2024-09-04 14:32:17           1   \n",
       "...          ...                  ...         ...   \n",
       "8334        8334  2024-07-02 12:35:36           9   \n",
       "8335        8335  2024-07-02 11:07:10           0   \n",
       "8336        8336  2024-07-02 11:07:10           0   \n",
       "8337        8337  2024-07-02 11:07:10           0   \n",
       "8338        8338  2024-07-02 11:07:10           0   \n",
       "\n",
       "                                                   text               user   \n",
       "0     Zingermans has a nice reuben, pretty pricey bu...  Suspicious-Bad703  \\\n",
       "1                                I really love Tomokun!        webstbre000   \n",
       "2     The Seoul is pretty good I especially like the...            iaxlmao   \n",
       "3     A lot of it depends on what type of food and w...              I-696   \n",
       "4     You can book completely enclosed private study...             sneep_   \n",
       "...                                                 ...                ...   \n",
       "8334                             It isn’t a student org   Vibes_And_Smiles   \n",
       "8335                  Life   \\nMatter   \\nLife's matter               tctu   \n",
       "8336                                             google        SUPERazkari   \n",
       "8337  That’s a hard question to answer for a set of ...  Own-Resident-3837   \n",
       "8338  Not either one but instead why do people pick ...  No-Chemistry-6677   \n",
       "\n",
       "      com_votes  \n",
       "0             2  \n",
       "1             2  \n",
       "2             1  \n",
       "3             1  \n",
       "4             2  \n",
       "...         ...  \n",
       "8334          1  \n",
       "8335          8  \n",
       "8336          4  \n",
       "8337         -1  \n",
       "8338         -4  \n",
       "\n",
       "[8339 rows x 6 columns]"
      ]
     },
     "execution_count": 6,
     "metadata": {},
     "output_type": "execute_result"
    }
   ],
   "source": [
    "#jupyter will print a pretty representation of most python objects if you just put the name\n",
    "#we can see that the full text of each reddit comment is provided in the \"text\" column\n",
    "mich"
   ]
  },
  {
   "cell_type": "code",
   "execution_count": 7,
   "metadata": {},
   "outputs": [],
   "source": [
    "#this is a function that does some light cleaning, by removing newline characters, converting to lowercase, and removing punctuation\n",
    "\n",
    "def clean(text):\n",
    "    #remove newline and space characters\n",
    "    text = ' '.join(text.split())\n",
    "    #convert the text to lowercase\n",
    "    text = text.lower()\n",
    "    #remove punctuation\n",
    "    text = ''.join([char for char in text if char.isalpha() or char.isspace()])\n",
    "    return text"
   ]
  },
  {
   "cell_type": "code",
   "execution_count": 8,
   "metadata": {},
   "outputs": [],
   "source": [
    "#pandas allows us to quickly apply this cleaning function to all rows in a column\n",
    "mich['cleaned_text'] = mich['text'].apply(clean)"
   ]
  },
  {
   "cell_type": "code",
   "execution_count": 9,
   "metadata": {},
   "outputs": [
    {
     "data": {
      "text/plain": [
       "'zingermans has a nice reuben pretty pricey but the sammies are pretty big'"
      ]
     },
     "execution_count": 9,
     "metadata": {},
     "output_type": "execute_result"
    }
   ],
   "source": [
    "#we can see the first comment after cleaning vs before\n",
    "mich[\"cleaned_text\"][0]"
   ]
  },
  {
   "cell_type": "code",
   "execution_count": 10,
   "metadata": {},
   "outputs": [
    {
     "data": {
      "text/plain": [
       "'Zingermans has a nice reuben, pretty pricey but the sammies are pretty big'"
      ]
     },
     "execution_count": 10,
     "metadata": {},
     "output_type": "execute_result"
    }
   ],
   "source": [
    "mich[\"text\"][0]"
   ]
  },
  {
   "cell_type": "code",
   "execution_count": 11,
   "metadata": {},
   "outputs": [],
   "source": [
    "#create a bag of words representation with count vectorizer\n",
    "vectorizer = CountVectorizer()\n",
    "bag_of_words = vectorizer.fit_transform(mich['cleaned_text'])"
   ]
  },
  {
   "cell_type": "code",
   "execution_count": 12,
   "metadata": {},
   "outputs": [
    {
     "data": {
      "text/plain": [
       "<8339x15289 sparse matrix of type '<class 'numpy.int64'>'\n",
       "\twith 221217 stored elements in Compressed Sparse Row format>"
      ]
     },
     "execution_count": 12,
     "metadata": {},
     "output_type": "execute_result"
    }
   ],
   "source": [
    "#this is a sparse matrix, which is a more efficient way to store a matrix with many zeros\n",
    "#the matrix has 8339 rows (one for each comment) and 15289 columns (one for each unique word in the dataset)\n",
    "bag_of_words"
   ]
  },
  {
   "cell_type": "code",
   "execution_count": 13,
   "metadata": {},
   "outputs": [
    {
     "data": {
      "text/html": [
       "<div>\n",
       "<style scoped>\n",
       "    .dataframe tbody tr th:only-of-type {\n",
       "        vertical-align: middle;\n",
       "    }\n",
       "\n",
       "    .dataframe tbody tr th {\n",
       "        vertical-align: top;\n",
       "    }\n",
       "\n",
       "    .dataframe thead th {\n",
       "        text-align: right;\n",
       "    }\n",
       "</style>\n",
       "<table border=\"1\" class=\"dataframe\">\n",
       "  <thead>\n",
       "    <tr style=\"text-align: right;\">\n",
       "      <th></th>\n",
       "      <th>aa</th>\n",
       "      <th>aadl</th>\n",
       "      <th>aapd</th>\n",
       "      <th>aata</th>\n",
       "      <th>ab</th>\n",
       "      <th>abab</th>\n",
       "      <th>abandon</th>\n",
       "      <th>abandoned</th>\n",
       "      <th>abbreviation</th>\n",
       "      <th>abbreviations</th>\n",
       "      <th>...</th>\n",
       "      <th>zoned</th>\n",
       "      <th>zones</th>\n",
       "      <th>zoning</th>\n",
       "      <th>zoo</th>\n",
       "      <th>zoom</th>\n",
       "      <th>zoomer</th>\n",
       "      <th>zoomers</th>\n",
       "      <th>zuckerberg</th>\n",
       "      <th>𝓲𝓷𝓼𝓮𝓬𝓾𝓻𝓮</th>\n",
       "      <th>𝘢𝘩𝘦𝘮</th>\n",
       "    </tr>\n",
       "  </thead>\n",
       "  <tbody>\n",
       "    <tr>\n",
       "      <th>0</th>\n",
       "      <td>0</td>\n",
       "      <td>0</td>\n",
       "      <td>0</td>\n",
       "      <td>0</td>\n",
       "      <td>0</td>\n",
       "      <td>0</td>\n",
       "      <td>0</td>\n",
       "      <td>0</td>\n",
       "      <td>0</td>\n",
       "      <td>0</td>\n",
       "      <td>...</td>\n",
       "      <td>0</td>\n",
       "      <td>0</td>\n",
       "      <td>0</td>\n",
       "      <td>0</td>\n",
       "      <td>0</td>\n",
       "      <td>0</td>\n",
       "      <td>0</td>\n",
       "      <td>0</td>\n",
       "      <td>0</td>\n",
       "      <td>0</td>\n",
       "    </tr>\n",
       "    <tr>\n",
       "      <th>1</th>\n",
       "      <td>0</td>\n",
       "      <td>0</td>\n",
       "      <td>0</td>\n",
       "      <td>0</td>\n",
       "      <td>0</td>\n",
       "      <td>0</td>\n",
       "      <td>0</td>\n",
       "      <td>0</td>\n",
       "      <td>0</td>\n",
       "      <td>0</td>\n",
       "      <td>...</td>\n",
       "      <td>0</td>\n",
       "      <td>0</td>\n",
       "      <td>0</td>\n",
       "      <td>0</td>\n",
       "      <td>0</td>\n",
       "      <td>0</td>\n",
       "      <td>0</td>\n",
       "      <td>0</td>\n",
       "      <td>0</td>\n",
       "      <td>0</td>\n",
       "    </tr>\n",
       "    <tr>\n",
       "      <th>2</th>\n",
       "      <td>0</td>\n",
       "      <td>0</td>\n",
       "      <td>0</td>\n",
       "      <td>0</td>\n",
       "      <td>0</td>\n",
       "      <td>0</td>\n",
       "      <td>0</td>\n",
       "      <td>0</td>\n",
       "      <td>0</td>\n",
       "      <td>0</td>\n",
       "      <td>...</td>\n",
       "      <td>0</td>\n",
       "      <td>0</td>\n",
       "      <td>0</td>\n",
       "      <td>0</td>\n",
       "      <td>0</td>\n",
       "      <td>0</td>\n",
       "      <td>0</td>\n",
       "      <td>0</td>\n",
       "      <td>0</td>\n",
       "      <td>0</td>\n",
       "    </tr>\n",
       "    <tr>\n",
       "      <th>3</th>\n",
       "      <td>0</td>\n",
       "      <td>0</td>\n",
       "      <td>0</td>\n",
       "      <td>0</td>\n",
       "      <td>0</td>\n",
       "      <td>0</td>\n",
       "      <td>0</td>\n",
       "      <td>0</td>\n",
       "      <td>0</td>\n",
       "      <td>0</td>\n",
       "      <td>...</td>\n",
       "      <td>0</td>\n",
       "      <td>0</td>\n",
       "      <td>0</td>\n",
       "      <td>0</td>\n",
       "      <td>0</td>\n",
       "      <td>0</td>\n",
       "      <td>0</td>\n",
       "      <td>0</td>\n",
       "      <td>0</td>\n",
       "      <td>0</td>\n",
       "    </tr>\n",
       "    <tr>\n",
       "      <th>4</th>\n",
       "      <td>0</td>\n",
       "      <td>0</td>\n",
       "      <td>0</td>\n",
       "      <td>0</td>\n",
       "      <td>0</td>\n",
       "      <td>0</td>\n",
       "      <td>0</td>\n",
       "      <td>0</td>\n",
       "      <td>0</td>\n",
       "      <td>0</td>\n",
       "      <td>...</td>\n",
       "      <td>0</td>\n",
       "      <td>0</td>\n",
       "      <td>0</td>\n",
       "      <td>0</td>\n",
       "      <td>0</td>\n",
       "      <td>0</td>\n",
       "      <td>0</td>\n",
       "      <td>0</td>\n",
       "      <td>0</td>\n",
       "      <td>0</td>\n",
       "    </tr>\n",
       "    <tr>\n",
       "      <th>...</th>\n",
       "      <td>...</td>\n",
       "      <td>...</td>\n",
       "      <td>...</td>\n",
       "      <td>...</td>\n",
       "      <td>...</td>\n",
       "      <td>...</td>\n",
       "      <td>...</td>\n",
       "      <td>...</td>\n",
       "      <td>...</td>\n",
       "      <td>...</td>\n",
       "      <td>...</td>\n",
       "      <td>...</td>\n",
       "      <td>...</td>\n",
       "      <td>...</td>\n",
       "      <td>...</td>\n",
       "      <td>...</td>\n",
       "      <td>...</td>\n",
       "      <td>...</td>\n",
       "      <td>...</td>\n",
       "      <td>...</td>\n",
       "      <td>...</td>\n",
       "    </tr>\n",
       "    <tr>\n",
       "      <th>8334</th>\n",
       "      <td>0</td>\n",
       "      <td>0</td>\n",
       "      <td>0</td>\n",
       "      <td>0</td>\n",
       "      <td>0</td>\n",
       "      <td>0</td>\n",
       "      <td>0</td>\n",
       "      <td>0</td>\n",
       "      <td>0</td>\n",
       "      <td>0</td>\n",
       "      <td>...</td>\n",
       "      <td>0</td>\n",
       "      <td>0</td>\n",
       "      <td>0</td>\n",
       "      <td>0</td>\n",
       "      <td>0</td>\n",
       "      <td>0</td>\n",
       "      <td>0</td>\n",
       "      <td>0</td>\n",
       "      <td>0</td>\n",
       "      <td>0</td>\n",
       "    </tr>\n",
       "    <tr>\n",
       "      <th>8335</th>\n",
       "      <td>0</td>\n",
       "      <td>0</td>\n",
       "      <td>0</td>\n",
       "      <td>0</td>\n",
       "      <td>0</td>\n",
       "      <td>0</td>\n",
       "      <td>0</td>\n",
       "      <td>0</td>\n",
       "      <td>0</td>\n",
       "      <td>0</td>\n",
       "      <td>...</td>\n",
       "      <td>0</td>\n",
       "      <td>0</td>\n",
       "      <td>0</td>\n",
       "      <td>0</td>\n",
       "      <td>0</td>\n",
       "      <td>0</td>\n",
       "      <td>0</td>\n",
       "      <td>0</td>\n",
       "      <td>0</td>\n",
       "      <td>0</td>\n",
       "    </tr>\n",
       "    <tr>\n",
       "      <th>8336</th>\n",
       "      <td>0</td>\n",
       "      <td>0</td>\n",
       "      <td>0</td>\n",
       "      <td>0</td>\n",
       "      <td>0</td>\n",
       "      <td>0</td>\n",
       "      <td>0</td>\n",
       "      <td>0</td>\n",
       "      <td>0</td>\n",
       "      <td>0</td>\n",
       "      <td>...</td>\n",
       "      <td>0</td>\n",
       "      <td>0</td>\n",
       "      <td>0</td>\n",
       "      <td>0</td>\n",
       "      <td>0</td>\n",
       "      <td>0</td>\n",
       "      <td>0</td>\n",
       "      <td>0</td>\n",
       "      <td>0</td>\n",
       "      <td>0</td>\n",
       "    </tr>\n",
       "    <tr>\n",
       "      <th>8337</th>\n",
       "      <td>0</td>\n",
       "      <td>0</td>\n",
       "      <td>0</td>\n",
       "      <td>0</td>\n",
       "      <td>0</td>\n",
       "      <td>0</td>\n",
       "      <td>0</td>\n",
       "      <td>0</td>\n",
       "      <td>0</td>\n",
       "      <td>0</td>\n",
       "      <td>...</td>\n",
       "      <td>0</td>\n",
       "      <td>0</td>\n",
       "      <td>0</td>\n",
       "      <td>0</td>\n",
       "      <td>0</td>\n",
       "      <td>0</td>\n",
       "      <td>0</td>\n",
       "      <td>0</td>\n",
       "      <td>0</td>\n",
       "      <td>0</td>\n",
       "    </tr>\n",
       "    <tr>\n",
       "      <th>8338</th>\n",
       "      <td>0</td>\n",
       "      <td>0</td>\n",
       "      <td>0</td>\n",
       "      <td>0</td>\n",
       "      <td>0</td>\n",
       "      <td>0</td>\n",
       "      <td>0</td>\n",
       "      <td>0</td>\n",
       "      <td>0</td>\n",
       "      <td>0</td>\n",
       "      <td>...</td>\n",
       "      <td>0</td>\n",
       "      <td>0</td>\n",
       "      <td>0</td>\n",
       "      <td>0</td>\n",
       "      <td>0</td>\n",
       "      <td>0</td>\n",
       "      <td>0</td>\n",
       "      <td>0</td>\n",
       "      <td>0</td>\n",
       "      <td>0</td>\n",
       "    </tr>\n",
       "  </tbody>\n",
       "</table>\n",
       "<p>8339 rows × 15289 columns</p>\n",
       "</div>"
      ],
      "text/plain": [
       "      aa  aadl  aapd  aata  ab  abab  abandon  abandoned  abbreviation   \n",
       "0      0     0     0     0   0     0        0          0             0  \\\n",
       "1      0     0     0     0   0     0        0          0             0   \n",
       "2      0     0     0     0   0     0        0          0             0   \n",
       "3      0     0     0     0   0     0        0          0             0   \n",
       "4      0     0     0     0   0     0        0          0             0   \n",
       "...   ..   ...   ...   ...  ..   ...      ...        ...           ...   \n",
       "8334   0     0     0     0   0     0        0          0             0   \n",
       "8335   0     0     0     0   0     0        0          0             0   \n",
       "8336   0     0     0     0   0     0        0          0             0   \n",
       "8337   0     0     0     0   0     0        0          0             0   \n",
       "8338   0     0     0     0   0     0        0          0             0   \n",
       "\n",
       "      abbreviations  ...  zoned  zones  zoning  zoo  zoom  zoomer  zoomers   \n",
       "0                 0  ...      0      0       0    0     0       0        0  \\\n",
       "1                 0  ...      0      0       0    0     0       0        0   \n",
       "2                 0  ...      0      0       0    0     0       0        0   \n",
       "3                 0  ...      0      0       0    0     0       0        0   \n",
       "4                 0  ...      0      0       0    0     0       0        0   \n",
       "...             ...  ...    ...    ...     ...  ...   ...     ...      ...   \n",
       "8334              0  ...      0      0       0    0     0       0        0   \n",
       "8335              0  ...      0      0       0    0     0       0        0   \n",
       "8336              0  ...      0      0       0    0     0       0        0   \n",
       "8337              0  ...      0      0       0    0     0       0        0   \n",
       "8338              0  ...      0      0       0    0     0       0        0   \n",
       "\n",
       "      zuckerberg  𝓲𝓷𝓼𝓮𝓬𝓾𝓻𝓮  𝘢𝘩𝘦𝘮  \n",
       "0              0         0     0  \n",
       "1              0         0     0  \n",
       "2              0         0     0  \n",
       "3              0         0     0  \n",
       "4              0         0     0  \n",
       "...          ...       ...   ...  \n",
       "8334           0         0     0  \n",
       "8335           0         0     0  \n",
       "8336           0         0     0  \n",
       "8337           0         0     0  \n",
       "8338           0         0     0  \n",
       "\n",
       "[8339 rows x 15289 columns]"
      ]
     },
     "execution_count": 13,
     "metadata": {},
     "output_type": "execute_result"
    }
   ],
   "source": [
    "#create a dataframe from the sparse matrix\n",
    "#this is a more human-readable way to view the data\n",
    "bow_df = pd.DataFrame(bag_of_words.toarray(), columns=vectorizer.get_feature_names_out())\n",
    "bow_df"
   ]
  },
  {
   "cell_type": "code",
   "execution_count": 14,
   "metadata": {},
   "outputs": [
    {
     "data": {
      "text/plain": [
       "the            11306\n",
       "to              8480\n",
       "and             6921\n",
       "you             6256\n",
       "of              5028\n",
       "               ...  \n",
       "journals           1\n",
       "journeywhen        1\n",
       "jpg                1\n",
       "js                 1\n",
       "𝘢𝘩𝘦𝘮               1\n",
       "Length: 15289, dtype: int64"
      ]
     },
     "execution_count": 14,
     "metadata": {},
     "output_type": "execute_result"
    }
   ],
   "source": [
    "#dataframes have a convenient method for summing the values in each column\n",
    "#this will give us the number of times each word appears in the dataset\n",
    "word_counts = bow_df.sum()\n",
    "#we can sort the values to see the most common words\n",
    "word_counts = word_counts.sort_values(ascending=False)\n",
    "\n",
    "#notice that the top words are not very informative, as they are common words that appear in many contexts\n",
    "#and bottom words include a lot of typos and other noise\n",
    "word_counts"
   ]
  },
  {
   "cell_type": "code",
   "execution_count": 15,
   "metadata": {},
   "outputs": [
    {
     "data": {
      "image/png": "[encoded data removed]",
      "text/plain": [
       "<Figure size 2000x1000 with 1 Axes>"
      ]
     },
     "metadata": {},
     "output_type": "display_data"
    }
   ],
   "source": [
    "#we can plot the most common words\n",
    "#we will only plot the top 10 words for readability\n",
    "word_counts = word_counts.head(10)\n",
    "plt.figure(figsize=(20,10))\n",
    "plt.bar(word_counts.index, word_counts.values)\n",
    "plt.xticks(rotation=45)\n",
    "plt.show()"
   ]
  },
  {
   "cell_type": "markdown",
   "metadata": {},
   "source": [
    "#### Question 1: what do you notice about the words in this plot? Is this useful for studying the community?\n"
   ]
  },
  {
   "cell_type": "code",
   "execution_count": 16,
   "metadata": {},
   "outputs": [],
   "source": [
    "#read the data from a csv file in the folder\n",
    "mich=pd.read_csv(\"umich.csv\")"
   ]
  },
  {
   "cell_type": "markdown",
   "metadata": {},
   "source": [
    "Answer here: \n",
    "The words are the most common words. No it is not very useful for the studying community because it does not have a header or the names of each axis."
   ]
  },
  {
   "cell_type": "markdown",
   "metadata": {},
   "source": [
    "#### Lemmatization and stopword removal"
   ]
  },
  {
   "cell_type": "code",
   "execution_count": 17,
   "metadata": {},
   "outputs": [],
   "source": [
    "#lemmatization function from the openclassrooms reading\n",
    "def lemmatize(text):\n",
    "\n",
    "   doc = language_model(text)\n",
    "\n",
    "   tokens = [token.lemma_ for token in doc if not (token.is_stop or token.is_punct)]\n",
    "\n",
    "   return ' '.join(tokens)"
   ]
  },
  {
   "cell_type": "code",
   "execution_count": 18,
   "metadata": {},
   "outputs": [],
   "source": [
    "mich['cleaned_text'] = mich['text'].apply(clean)"
   ]
  },
  {
   "cell_type": "code",
   "execution_count": 19,
   "metadata": {},
   "outputs": [],
   "source": [
    "#we can further process the text by removing stopwords and lemmatizing\n",
    "mich['lemmatized_text'] = mich['cleaned_text'].apply(lemmatize)"
   ]
  },
  {
   "cell_type": "code",
   "execution_count": 20,
   "metadata": {},
   "outputs": [],
   "source": [
    "#count vectorizer also has parameters min_df and max_df that can be used to filter out words that are too rare or too common\n",
    "#min_df=3 means that a word must appear in at least 3 documents to be included, this will remove typos and rare words\n",
    "#max_df=0.3 means that a word must appear in at most 30% of documents to be included, this will remove corpus-specific stopwords\n",
    "\n",
    "#we are also able to include n-grams in the count vectorizer\n",
    "#n-grams are sequences of n words that appear together in the text\n",
    "#the n-gram_range parameter specifies the minimum and maximum n-gram size to include (so in this case, we are including both unigrams and bigrams)\n",
    "\n",
    "vectorizer = CountVectorizer(min_df=3, max_df=0.3, ngram_range=(1,2))\n",
    "bag_of_words = vectorizer.fit_transform(mich['lemmatized_text'])"
   ]
  },
  {
   "cell_type": "code",
   "execution_count": 21,
   "metadata": {},
   "outputs": [
    {
     "data": {
      "text/plain": [
       "<8339x8608 sparse matrix of type '<class 'numpy.int64'>'\n",
       "\twith 126768 stored elements in Compressed Sparse Row format>"
      ]
     },
     "execution_count": 21,
     "metadata": {},
     "output_type": "execute_result"
    }
   ],
   "source": [
    "#we can see that we filtered out 11000 common words and typos\n",
    "bag_of_words"
   ]
  },
  {
   "cell_type": "code",
   "execution_count": 22,
   "metadata": {},
   "outputs": [
    {
     "data": {
      "text/plain": [
       "not              2863\n",
       "student          1183\n",
       "like             1183\n",
       "people           1124\n",
       "class             988\n",
       "                 ... \n",
       "club campus         3\n",
       "open not            3\n",
       "open source         3\n",
       "club activity       3\n",
       "luck search         3\n",
       "Length: 8608, dtype: int64"
      ]
     },
     "execution_count": 22,
     "metadata": {},
     "output_type": "execute_result"
    }
   ],
   "source": [
    "#we can repeat the previous code to create a dataframe and count the words\n",
    "bow_df = pd.DataFrame(bag_of_words.toarray(), columns=vectorizer.get_feature_names_out())\n",
    "word_counts = bow_df.sum()\n",
    "word_counts = word_counts.sort_values(ascending=False)\n",
    "word_counts"
   ]
  },
  {
   "cell_type": "code",
   "execution_count": 23,
   "metadata": {},
   "outputs": [],
   "source": [
    "#we can convert this to a percentage instead of an absolute count by dividing by the total number of words\n",
    "word_counts = word_counts / word_counts.sum()"
   ]
  },
  {
   "cell_type": "code",
   "execution_count": 24,
   "metadata": {},
   "outputs": [
    {
     "data": {
      "image/png": "[encoded data removed]",
      "text/plain": [
       "<Figure size 2000x1000 with 1 Axes>"
      ]
     },
     "metadata": {},
     "output_type": "display_data"
    }
   ],
   "source": [
    "#we can plot the most common words\n",
    "#we will only plot the top 10 words for readability\n",
    "plot_list = word_counts.head(10)\n",
    "plt.figure(figsize=(20,10))\n",
    "plt.bar(plot_list.index, plot_list.values)\n",
    "plt.xticks(rotation=45)\n",
    "plt.show()"
   ]
  },
  {
   "cell_type": "code",
   "execution_count": 25,
   "metadata": {},
   "outputs": [
    {
     "data": {
      "text/plain": [
       "0.00013110048507179476"
      ]
     },
     "execution_count": 25,
     "metadata": {},
     "output_type": "execute_result"
    }
   ],
   "source": [
    "#pandas allows us to access specific words in the series using the index\n",
    "word_counts[\"you\"]"
   ]
  },
  {
   "cell_type": "code",
   "execution_count": 26,
   "metadata": {},
   "outputs": [
    {
     "data": {
      "text/plain": [
       "not        0.019755\n",
       "student    0.008163\n",
       "like       0.008163\n",
       "people     0.007756\n",
       "class      0.006817\n",
       "dtype: float64"
      ]
     },
     "execution_count": 26,
     "metadata": {},
     "output_type": "execute_result"
    }
   ],
   "source": [
    "#we can also use a list of words to compare and plot specific words\n",
    "plot_list=word_counts[[\"not\", \"student\", \"like\", \"people\", \"class\"]]\n",
    "plot_list"
   ]
  },
  {
   "cell_type": "code",
   "execution_count": 27,
   "metadata": {},
   "outputs": [
    {
     "data": {
      "image/png": "[encoded data removed]",
      "text/plain": [
       "<Figure size 2000x1000 with 1 Axes>"
      ]
     },
     "metadata": {},
     "output_type": "display_data"
    }
   ],
   "source": [
    "\n",
    "plt.figure(figsize=(20,10))\n",
    "plt.bar(plot_list.index, plot_list.values)\n",
    "plt.xticks(rotation=45)\n",
    "plt.show()"
   ]
  },
  {
   "cell_type": "markdown",
   "metadata": {},
   "source": [
    "#### Question 2:"
   ]
  },
  {
   "cell_type": "code",
   "execution_count": 28,
   "metadata": {},
   "outputs": [
    {
     "data": {
      "image/png": "[encoded data removed]",
      "text/plain": [
       "<Figure size 1000x500 with 1 Axes>"
      ]
     },
     "metadata": {},
     "output_type": "display_data"
    }
   ],
   "source": [
    "#TODO: pick 5 words that you find interesting or are curious about, and plot a bar plot of their frequency in this dataset \n",
    "\n",
    "interesting_words = ['go', 'year', 'time', 'think', 'good']\n",
    "interesting_counts = word_counts.loc[interesting_words]\n",
    "\n",
    "plt.figure(figsize=(10,5))\n",
    "plt.bar(interesting_counts.index, interesting_counts.values)\n",
    "plt.title('Frequency of Interesting Words')\n",
    "plt.xticks(rotation=45)\n",
    "plt.show()"
   ]
  },
  {
   "cell_type": "code",
   "execution_count": 29,
   "metadata": {},
   "outputs": [],
   "source": [
    "#read the data from a csv file in the folder\n",
    "mich=pd.read_csv(\"umich.csv\")"
   ]
  },
  {
   "cell_type": "code",
   "execution_count": null,
   "metadata": {},
   "outputs": [],
   "source": []
  },
  {
   "cell_type": "markdown",
   "metadata": {},
   "source": [
    "### Problem 2: repeat this process with the Illinois subreddit data (in this directory as \"uiuc.csv\"). You should not have to change too much in the previous code besides the dataframe path and name. Your notebook should include the two bar graphs including and excluding stopwords. Use the same 5 words and compare their relative frequency between the two subreddits. Discuss any interesting differences you notice in a short markdown cell. "
   ]
  },
  {
   "cell_type": "code",
   "execution_count": 30,
   "metadata": {},
   "outputs": [],
   "source": [
    "uiuc=pd.read_csv(\"uiuc.csv\")\n"
   ]
  },
  {
   "cell_type": "markdown",
   "metadata": {},
   "source": [
    "### Problem 3: using the provided combined dataframe, train a logistic regression model using the sklearn Logistic Regression implementation. https://scikit-learn.org/stable/modules/generated/sklearn.linear_model.LogisticRegression.html. Create a bag of words table from the combined data, and use that along with the \"label\" column to train the classifier. Please try this out and be prepared with issues or questions next Monday. We will be discussing in class"
   ]
  },
  {
   "cell_type": "code",
   "execution_count": 31,
   "metadata": {},
   "outputs": [],
   "source": [
    "uiuc=pd.read_csv(\"uiuc.csv\")\n",
    "mich=pd.read_csv(\"umich.csv\")\n",
    "\n",
    "#sample so we have even number of samples from each dataset\n",
    "mich=mich.sample(n=4725)\n",
    "\n",
    "#assign labels based on origin subreddit of comment\n",
    "uiuc['label']=1\n",
    "mich['label']=0\n",
    "\n",
    "#you will be working with the data csv for the rest of the question\n",
    "data=pd.concat([uiuc,mich])"
   ]
  },
  {
   "cell_type": "code",
   "execution_count": 32,
   "metadata": {},
   "outputs": [],
   "source": [
    "#clean and lemmatize the data csvdef clean(text):\n",
    "#remove newline and space characters\n",
    "data['cleaned_text'] = data['text'].apply(clean)\n"
   ]
  },
  {
   "cell_type": "code",
   "execution_count": 33,
   "metadata": {},
   "outputs": [],
   "source": [
    "#we can further process the text by removing stopwords and lemmatizing\n",
    "data['lemmatized_text'] = data['cleaned_text'].apply(lemmatize)"
   ]
  },
  {
   "cell_type": "code",
   "execution_count": 34,
   "metadata": {},
   "outputs": [],
   "source": [
    "#create a bag of words representation with count vectorizer\n",
    "vectorizer = CountVectorizer(min_df=3, max_df=0.3, ngram_range=(1,2))\n",
    "bag_of_words = vectorizer.fit_transform(data['lemmatized_text'])"
   ]
  },
  {
   "cell_type": "code",
   "execution_count": 35,
   "metadata": {},
   "outputs": [],
   "source": [
    "#train a logistic regression model using the bag of words features as X and the label column as y\n",
    "from sklearn.model_selection import train_test_split\n",
    "from sklearn.linear_model import LogisticRegression\n",
    "from sklearn.metrics import accuracy_score\n",
    "\n",
    "X_train, X_test, y_train, y_test = train_test_split(bag_of_words, data['label'], test_size=0.2, random_state=42)\n",
    "\n",
    "log_reg = LogisticRegression()\n",
    "log_reg.fit(X_train, y_train)\n",
    "\n",
    "y_pred = log_reg.predict(X_test)\n",
    "\n",
    "\n"
   ]
  },
  {
   "cell_type": "code",
   "execution_count": 36,
   "metadata": {},
   "outputs": [
    {
     "name": "stdout",
     "output_type": "stream",
     "text": [
      "Accuracy: 0.7095238095238096\n"
     ]
    }
   ],
   "source": [
    "#report the accuracy of the model\n",
    "accuracy = accuracy_score(y_test, y_pred)\n",
    "print(f\"Accuracy: {accuracy}\")"
   ]
  },
  {
   "cell_type": "markdown",
   "metadata": {},
   "source": [
    "#### Part 2: hold out part of the dataset using sklearn train_test_split (https://scikit-learn.org/stable/modules/generated/sklearn.model_selection.train_test_split.html). Pass in your previously generated bag of words as X and the label column as y. Use only the X_train and y_train for training and hold out the X_test and y_test to score the model on unseen data. \n",
    "\n"
   ]
  },
  {
   "cell_type": "code",
   "execution_count": 37,
   "metadata": {},
   "outputs": [
    {
     "name": "stdout",
     "output_type": "stream",
     "text": [
      "Accuracy: 0.7095238095238096\n"
     ]
    }
   ],
   "source": [
    "# what is the accuracy of the model? Is it better or worse than previous?Why do you think it has changed? \n",
    "print(f\"Accuracy: {accuracy}\")"
   ]
  },
  {
   "cell_type": "markdown",
   "metadata": {},
   "source": [
    "#### Part 3: Examine the top features of your model using the following code"
   ]
  },
  {
   "cell_type": "code",
   "execution_count": 51,
   "metadata": {},
   "outputs": [],
   "source": [
    "#get the coefficients of the model and plot the top 10 most positive and top 10 most negative coefficients\n",
    "#what do you notice about these words? Are they surprising or expected?\n",
    "feature_names = vectorizer.get_feature_names_out()\n",
    "coefficients = log_reg.coef_[0]"
   ]
  },
  {
   "cell_type": "code",
   "execution_count": 52,
   "metadata": {},
   "outputs": [],
   "source": [
    "coefficients = pd.DataFrame({'feature': feature_names, 'coefficient': coefficients})\n",
    "coefficients = coefficients.sort_values('coefficient', ascending=False)\n",
    "top_10_positive = coefficients.head(10)\n",
    "top_10_negative = coefficients.tail(10)\n"
   ]
  },
  {
   "cell_type": "code",
   "execution_count": 54,
   "metadata": {},
   "outputs": [
    {
     "name": "stdout",
     "output_type": "stream",
     "text": [
      "Positive Feature Names: ['uiuc' 'rso' 'illinois' 'grainger' 'illini' 'champaign' 'urbana' 'las'\n",
      " 'danville' 'quad day']\n",
      "Positive Coefficients: [2.75979489 2.17860149 2.0050246  1.80342241 1.79227047 1.79202062\n",
      " 1.73399074 1.6615156  1.64422887 1.42318573]\n",
      "Negative Feature Names: ['hill' 'wolverine' 'csg' 'eec' 'um' 'diag' 'fresno' 'mcard' 'umich'\n",
      " 'michigan']\n",
      "Negative Coefficients: [-1.74146822 -1.75580109 -1.8369001  -1.90683451 -2.00534687 -2.01116406\n",
      " -2.13775168 -2.19932313 -2.31563797 -2.68128524]\n"
     ]
    }
   ],
   "source": [
    "#examine these words and see if they make sense. Do they differentiate UIUC from another university?\n",
    "# Just the feature names\n",
    "positive_feature_names = top_10_positive['feature'].values\n",
    "negative_feature_names = top_10_negative['feature'].values\n",
    "\n",
    "# Just the coefficients\n",
    "positive_coefficients = top_10_positive['coefficient'].values\n",
    "negative_coefficients = top_10_negative['coefficient'].values\n",
    "\n",
    "# Now you can print them or use them in further analysis\n",
    "print(\"Positive Feature Names:\", positive_feature_names)\n",
    "print(\"Positive Coefficients:\", positive_coefficients)\n",
    "\n",
    "print(\"Negative Feature Names:\", negative_feature_names)\n",
    "print(\"Negative Coefficients:\", negative_coefficients)"
   ]
  },
  {
   "cell_type": "markdown",
   "metadata": {},
   "source": [
    "This makes sense because the positive features for each school match the different common things at that school. The UIUC common words are things like the main library, the two towns surrounding it, and even a school name. The common words for michigan are their mascot, the nickname of their school, and the state."
   ]
  },
  {
   "cell_type": "markdown",
   "metadata": {},
   "source": [
    "### Problem 4: Train a 10 topic topic model from the UIUC subreddit data using Gensim LDA. (https://radimrehurek.com/gensim/auto_examples/tutorials/run_lda.html) If you get here before Wednesday 9/11, don't rush to finish, but feel free to continue ahead. We will go through this in class. Print out the top words in each topic, and read through the words for each topic to decide the theme of the topic: remember this is subjective and there are no right or wrong answers. Print out a few comments with high frequencies of each topic and analyze if your topic labels were representative. "
   ]
  },
  {
   "cell_type": "code",
   "execution_count": 56,
   "metadata": {},
   "outputs": [
    {
     "name": "stderr",
     "output_type": "stream",
     "text": [
      "[nltk_data] Downloading package wordnet to\n",
      "[nltk_data]     /Users/madelynmcnamara/nltk_data...\n"
     ]
    },
    {
     "data": {
      "text/plain": [
       "True"
      ]
     },
     "execution_count": 56,
     "metadata": {},
     "output_type": "execute_result"
    }
   ],
   "source": [
    "import pandas as pd\n",
    "from gensim import corpora\n",
    "from gensim.models.ldamodel import LdaModel\n",
    "from gensim.parsing.preprocessing import STOPWORDS\n",
    "from nltk.stem import WordNetLemmatizer\n",
    "import nltk\n",
    "nltk.download('wordnet')"
   ]
  },
  {
   "cell_type": "code",
   "execution_count": 57,
   "metadata": {},
   "outputs": [],
   "source": [
    "\n",
    "uiuc = pd.read_csv('uiuc.csv')\n",
    "\n",
    "\n",
    "def preprocess(text):\n",
    "    lemmatizer = WordNetLemmatizer()\n",
    "    return [lemmatizer.lemmatize(word) for word in text.lower().split() if word not in STOPWORDS]\n",
    "\n",
    "uiuc['processed'] = uiuc['text'].map(preprocess)"
   ]
  },
  {
   "cell_type": "code",
   "execution_count": 58,
   "metadata": {},
   "outputs": [],
   "source": [
    "dictionary = corpora.Dictionary(uiuc['processed'])\n",
    "corpus = [dictionary.doc2bow(text) for text in uiuc['processed']]"
   ]
  },
  {
   "cell_type": "code",
   "execution_count": 59,
   "metadata": {},
   "outputs": [],
   "source": [
    "# Train LDA model\n",
    "lda = LdaModel(corpus=corpus, id2word=dictionary, num_topics=10, passes=15)"
   ]
  },
  {
   "cell_type": "code",
   "execution_count": 60,
   "metadata": {},
   "outputs": [
    {
     "name": "stdout",
     "output_type": "stream",
     "text": [
      "Topic 1:\n",
      "0.022*\"thank\" + 0.006*\"chinese\" + 0.005*\"joke\" + 0.005*\"😭\" + 0.004*\"suck\" + 0.004*\"try\" + 0.004*\"went\" + 0.004*\"couple\" + 0.004*\"st\" + 0.004*\"fine.\"\n",
      "Topic 2:\n",
      "0.011*\"like\" + 0.010*\"good\" + 0.009*\"people\" + 0.007*\"weather\" + 0.007*\"need\" + 0.006*\"day\" + 0.006*\"open\" + 0.006*\"know\" + 0.006*\"it's\" + 0.005*\"you're\"\n",
      "Topic 3:\n",
      "0.012*\"i'm\" + 0.010*\"got\" + 0.008*\"friend\" + 0.006*\"it's\" + 0.006*\"i’m\" + 0.006*\"freshman\" + 0.005*\"want\" + 0.005*\"dm\" + 0.005*\"university\" + 0.004*\":(\"\n",
      "Topic 4:\n",
      "0.009*\"water\" + 0.008*\"bike\" + 0.007*\"car\" + 0.006*\"pay\" + 0.006*\"parking\" + 0.006*\"like\" + 0.006*\"bus\" + 0.005*\"fee\" + 0.005*\"campus\" + 0.004*\"tap\"\n",
      "Topic 5:\n",
      "0.006*\"year\" + 0.005*\"dollar\" + 0.005*\"hair\" + 0.004*\"amtrak\" + 0.004*\"shit\" + 0.004*\"manage\" + 0.004*\"co2\" + 0.003*\"we’re\" + 0.003*\"ago\" + 0.003*\"art\"\n",
      "Topic 6:\n",
      "0.010*\"cleaning\" + 0.006*\"apartment\" + 0.006*\"[deleted]\" + 0.004*\"product\" + 0.004*\"review\" + 0.004*\"moved\" + 0.004*\"said\" + 0.004*\"fakespot\" + 0.004*\"carpet\" + 0.004*\"deposit\"\n",
      "Topic 7:\n",
      "0.015*\"people\" + 0.011*\"student\" + 0.009*\"like\" + 0.008*\"-\" + 0.008*\"year\" + 0.008*\"don't\" + 0.007*\"know\" + 0.007*\"don’t\" + 0.007*\"it’s\" + 0.007*\"think\"\n",
      "Topic 8:\n",
      "0.015*\"time\" + 0.013*\"class\" + 0.008*\"it’s\" + 0.006*\"you’re\" + 0.006*\"like\" + 0.006*\"going\" + 0.005*\"maybe\" + 0.005*\"people\" + 0.005*\"student\" + 0.005*\"lot\"\n",
      "Topic 9:\n",
      "0.009*\"you!\" + 0.006*\"thank\" + 0.005*\"it's\" + 0.004*\"ra\" + 0.004*\"danville\" + 0.004*\"woman\" + 0.004*\"like\" + 0.004*\"view\" + 0.003*\"introvert\" + 0.003*\"money\"\n",
      "Topic 10:\n",
      "0.018*\"u\" + 0.009*\"i’m\" + 0.007*\"lol\" + 0.005*\"think\" + 0.005*\"like\" + 0.005*\"live\" + 0.005*\"im\" + 0.005*\"pipe\" + 0.004*\"people\" + 0.004*\"hear\"\n"
     ]
    }
   ],
   "source": [
    "for i in range(10):\n",
    "    print(f\"Topic {i + 1}:\")\n",
    "    print(lda.print_topic(i, 10))"
   ]
  },
  {
   "cell_type": "code",
   "execution_count": 62,
   "metadata": {},
   "outputs": [
    {
     "name": "stdout",
     "output_type": "stream",
     "text": [
      "   Document_No  Dominant_Topic  Perc_Contribution   \n",
      "0            0               7           0.620906  \\\n",
      "1            1               9           0.918091   \n",
      "2            2               2           0.871305   \n",
      "3            3               0           0.494045   \n",
      "4            4               7           0.871107   \n",
      "\n",
      "                                      Topic_Keywords   \n",
      "0  time, class, it’s, you’re, like, going, maybe,...  \\\n",
      "1  u, i’m, lol, think, like, live, im, pipe, peop...   \n",
      "2  i'm, got, friend, it's, i’m, freshman, want, d...   \n",
      "3  thank, chinese, joke, 😭, suck, try, went, coup...   \n",
      "4  time, class, it’s, you’re, like, going, maybe,...   \n",
      "\n",
      "                                                Text  \n",
      "0  Have the same professor! And in lecture he did...  \n",
      "1  Do you find it helpful to still go to the lect...  \n",
      "2  Have you tried emailing University Housing to ...  \n",
      "3  Purchasing Illini Cash should get you added to...  \n",
      "4  Just did, thanks for the suggestion! It hadn't...  \n"
     ]
    }
   ],
   "source": [
    "def get_dominant_topic(ldamodel, corpus, texts):\n",
    "    # Initialize an empty list to store the dominant topics for each document\n",
    "    dominant_topics = []\n",
    "    \n",
    "    for i, row_list in enumerate(ldamodel[corpus]):\n",
    "        row = row_list[0] if ldamodel.per_word_topics else row_list\n",
    "        # Sort with the most dominant topic first\n",
    "        row = sorted(row, key=lambda x: (x[1]), reverse=True)\n",
    "        # Get the Dominant topic, Percentage Contribution, and Keywords for each document\n",
    "        topic_num, prop_topic = row[0]\n",
    "        wp = ldamodel.show_topic(topic_num)\n",
    "        topic_keywords = \", \".join([word for word, prop in wp])\n",
    "        dominant_topics.append({'Document_No': i, 'Dominant_Topic': topic_num, 'Perc_Contribution': prop_topic, 'Topic_Keywords': topic_keywords, 'Text': texts[i]})\n",
    "    \n",
    "    # Convert the list of dictionaries into a DataFrame\n",
    "    df_dominant_topics = pd.DataFrame(dominant_topics)\n",
    "    return df_dominant_topics\n",
    "\n",
    "# Assuming `texts` is your list of documents (e.g., uiuc['text'].tolist())\n",
    "dominant_topics_df = get_dominant_topic(lda, corpus, uiuc['text'].tolist())\n",
    "\n",
    "# Now, you can print or analyze the DataFrame as needed\n",
    "print(dominant_topics_df.head())"
   ]
  },
  {
   "cell_type": "code",
   "execution_count": 63,
   "metadata": {},
   "outputs": [
    {
     "name": "stdout",
     "output_type": "stream",
     "text": [
      "    Dominant_Topic                                     Topic_Keywords\n",
      "0                7  time, class, it’s, you’re, like, going, maybe,...\n",
      "1                9  u, i’m, lol, think, like, live, im, pipe, peop...\n",
      "2                2  i'm, got, friend, it's, i’m, freshman, want, d...\n",
      "3                0  thank, chinese, joke, 😭, suck, try, went, coup...\n",
      "5                4  year, dollar, hair, amtrak, shit, manage, co2,...\n",
      "6                1  like, good, people, weather, need, day, open, ...\n",
      "8                6  people, student, like, -, year, don't, know, d...\n",
      "11               5  cleaning, apartment, [deleted], product, revie...\n",
      "13               8  you!, thank, it's, ra, danville, woman, like, ...\n",
      "31               3  water, bike, car, pay, parking, like, bus, fee...\n"
     ]
    }
   ],
   "source": [
    "# Print out the topic keywords\n",
    "topic_keywords = dominant_topics_df[['Dominant_Topic', 'Topic_Keywords']].drop_duplicates()\n",
    "print(topic_keywords)"
   ]
  },
  {
   "cell_type": "code",
   "execution_count": 64,
   "metadata": {},
   "outputs": [
    {
     "name": "stdout",
     "output_type": "stream",
     "text": [
      "Comments for Topic 0:\n",
      " - try being on the verge of a panic attack in a packed classroom full of strangers feeling like your mobility aid is getting in the way of everyone while you can barely stand… I found a seat where I could bro (Contribution: 0.9499741196632385)\n",
      " - Electric drum set is your friend.  Buy one for a couple hundred dollars and get a nice pair of headphones.  It's not the same, but it's good enough (Contribution: 0.939957320690155)\n",
      " - (tho' hailstorms are getting less freaky... and trees blowing down on cars, too.   Best to jus tleave the car behind :P ) (Contribution: 0.9399442076683044)\n",
      " - TP swipe over the seat, then TP resting on the raw toilet seat between the actual toilet seat if you know what I mean. (Contribution: 0.9356536269187927)\n",
      " - I noticed this too! in the bus I said “why is everyone white!!?” but then I realized how bad that sounded and added in WHITE SHIRTS (Contribution: 0.9307010769844055)\n",
      "\n",
      "\n",
      "Comments for Topic 1:\n",
      " - Just adding that the National Weather Service has a website (https://www.weather.gov/) that provides real time updates for weather alerts across the entire US. The link for the region of Illinois that includes Champaign and Urbana is the one for the Lincoln station (https://www.weather.gov/ilx/), which shows the zoomed in map with all current alerts for the campus area. Tornado warnings are bright red, tornado watches are bright yellow, severe thunderstorm (large hail/high winds) warnings are bright orange, and flood warnings are dark red (flash flood) or bright green (non-flash flood), to cover the major year-round warnings. If there's bad weather on a siren test day and the sirens go off, check NWS or a similar site for severe weather warnings before assuming it's just the test. (Contribution: 0.9885900616645813)\n",
      " - Whats fun is if you look at the bottom of that website, it says copyright The Handyman LTD. The interesting thing about this is that there is that the USA does not use LTD, that is a British/Commonwealth thing. In looking that up, a [suspiciously similar website exists](https://jttilingnz.wixsite.com/thehandyman), that is seemingly a handyman service in New Zealand. \n",
      "\n",
      "You will notice that the verbiage of the call us now for a price estimation is the same, because in American English, price estimation wouldn't be how one would say that, but rather one would use estimate. Seems they lazily ripped off a foreign company's website.\n",
      "\n",
      "/u/BaseballBook2 (Contribution: 0.9803881049156189)\n",
      " - Titan Games is my local game store of choice! The staff are nice and there are usually people around playing games on the weekend. It's a bit off campus though, down Neil St. Idk anything about SWU but I just checked their facebook (Titan Games CU) and it looks like they have a casual play night just about every week. (Contribution: 0.9726954102516174)\n",
      " - Yep! If McKinley does not have it on hand, which their website says they provide the rabies shot then I will go wherever they tell me. Worst comes to worst I will go to the emergency room, better a emergency room visit than death! (I have Medicaid so I should not have to worry about the crazy bill, just do not have a primary care provider down here for right now, so McKinley will have to do) (Contribution: 0.9726917743682861)\n",
      " - it gave me a [referral link](https://pplx.ai?utm_source=backtoschool&edu_referral_code=mbwwjej&refSource=copy). it’ll give you rewards as you invite more people so that’s cool. i don’t use airbnb & i don’t wanna be the guy wearing the AI bot merch so i’ll just give that to someone if i get it & they want it :)\n",
      "\n",
      "that sounds so sketchy for some reason sorry lmao (Contribution: 0.9699588418006897)\n",
      "\n",
      "\n",
      "Comments for Topic 2:\n",
      " - hey :D I’m in PAR too! (Babcock)I am here with my sister and even we haven’t been able to make friends or hang out with others. We have gone to events & tried socializing with others but a connection can never be made :( i love making friends & my sister is rlly funny so it makes me sad that only we get to be each others friends lol. (Contribution: 0.9709445238113403)\n",
      " - Whichever one is at 10am the semester you take it. Both teach very similarly. In the fall Prof Elbanna for 460 is a good teacher and the class is pretty easy. In the spring, prof Henschen for 461 is the GOAT.\n",
      "\n",
      "Unless you plan to specialize one of steel or concrete, both are equally useful. (Contribution: 0.9666213989257812)\n",
      " - I'm also an international grad student making ra money and the standard university insurance. Didn't get surgeries at Carle but did get several ultrasounds/doctor consults, applied for the financial aid and got it. No harm applying and definitely worth trying! (Contribution: 0.9653484225273132)\n",
      " - He’s gone to great lengths to conceal his OF link. Not because he doesn’t like sharing, but because he really wants you to work hard for it. Truly bend over backwards and dig deep for it. It’s more special that way. (Contribution: 0.9608300924301147)\n",
      " - Aside from sympathy, are there ways to be as efficient as possible?  Speech-to-text (to a word doc, then cut and paste to the discussion so you can edit)?  Summaries of articles then skim the whole one for some extra details? (Contribution: 0.95256507396698)\n",
      "\n",
      "\n",
      "Comments for Topic 3:\n",
      " - wait what actually happens… my toilet clogs with literally just pee 😭 it’s weak compared to\n",
      "the other toilets in our floor. im so scared to go #2 in my dorm cuz it never flushes normally. I need to press it like 10 times. I was panicking when it didn’t flush I called my mom crying 😭 WHY DONT WE HAVE A PLUNGER sos (Contribution: 0.974962592124939)\n",
      " - They offer low initial rates, then jack them up and hope you don't pay close enough attention to your monthly bill and/or are too lazy to cancel. It is not necessarily a \"scam,\" but it is predatory, and their door-to-door reps can be super pushy and misleading. (Contribution: 0.9608243107795715)\n",
      " - Canoes & Kayaks: $11/half hour, $13/hour\n",
      "\n",
      "2 seater paddle: $12/half, $15/hour\n",
      "\n",
      "3 seater: $13/half, $16/hour\n",
      "\n",
      "4 seater: $14/half, $17/hour\n",
      "\n",
      "Those are per boat, not per person. (Contribution: 0.9590757489204407)\n",
      " - You hit the nail on the head. It can be health issues like replaced bones and joints, cardiac issues, pulmonary issues, neurological, etc. You can't always see those, and they can vary in day to day functionality. (Contribution: 0.959021806716919)\n",
      " - If you make under a certain amount, apply for financial aid at Carle: [https://carle.org/patients-visitors/financial-assistance](https://carle.org/patients-visitors/financial-assistance) or OSF: [https://x.osfhealthcare.org/patients-visitors/billing-insurance/financial-assistance](https://x.osfhealthcare.org/patients-visitors/billing-insurance/financial-assistance) \n",
      "\n",
      "You will need to go to a surgery center either way. Check with your insurance as well to see if they would cover it. You can also ask for estimates from the hospital and the surgeon. (Contribution: 0.9590138792991638)\n",
      "\n",
      "\n",
      "Comments for Topic 4:\n",
      " - Others have answered, but here is their policy in formal terms\n",
      "\n",
      ">Carle desires that: 1. All patients, regardless of their immigration status or residency, be aware of the Carle Regional Financial Assistance Program and all other financial assistance available at Carle; 2. For those patients who are eligible to be identified as early in the care, treatment and billing process as possible; and  3. That the process is as simple as possible for the patient. (Contribution: 0.9768956899642944)\n",
      " - Notice that many times scammers will reuse pictures from other apartments that they found online. If you do a reverse image search (using Google lens, for example), you can see that the first screenshot contains pictures of an apartment that is already listed online but is located in another state. (Contribution: 0.9608292579650879)\n",
      " - UIPD responded to an isolated medical call at the Grainger Engineering Library. A 911 caller mentioned possible shots fired, but it was quickly determined there were no shots fired and no danger to the public.  (Contribution: 0.9549462199211121)\n",
      " - What? It has to be fresh greens to be healthy? Lettuce is perfectly fine for you and a bowl of beans, rice, and grilled chicken along with tomatoes, peppers, and some sour cream is not unhealthy at all lmao. (Contribution: 0.9525937438011169)\n",
      " - If there is no good answer, I would be interested in helping organize a monthly AI/ML meetup or something. I've been working with the OpenAI API for over a year.\n",
      "\n",
      "My email is: killradius@doomlaser.com (Contribution: 0.9499315619468689)\n",
      "\n",
      "\n",
      "Comments for Topic 5:\n",
      " - It can be like that for 2 months. A few days are kill you with wind and temp. Actually dangerous due to wind chill. Most are ok if dressed right. A few are miserable cold and damp. Think Bay area damp but 20-30 degrees colder. (Contribution: 0.9639604687690735)\n",
      " - take Peoria charter to O'Hare and catch one of the million United flights a day between ORD and EWR. or American if you're a masochist and for some reason like flying them over united... (Contribution: 0.949934184551239)\n",
      " - Go outside of your comfort zone, do spontaneous things, go to lots of info nights, explore outside of campus and even the rural towns outside of Champaign Urbana (Contribution: 0.9470221996307373)\n",
      " - So I rabbit holed on this.   \n",
      "  \n",
      "Per your question, it's less about *implementing* it here and more that, for the most part, all of the sororities and fraternities are national organizations, with specific chapters at given colleges.   \n",
      "  \n",
      "Most of the Greek Letter organizations on campus are social sororities/fraternities. Chi Omega is a national panhellenic sorority (female social fraternity), with UofI hosting the Omicron chapter, while Alpha Sigma Phi is a national interfraternity council fraternity (male social fraternity), with UofI hosting the Eta chapter. Generally, college/university chapters are named in order of the Greek alphabet based on when each chapter of a given frat/sorority was founded, so the chapter at each sorority/frat's founding school is the Alpha chapter.  \n",
      "  \n",
      "There are also Black Greek Letter Organizations (ex. Alpha Kappa Alpha Sorority Inc., and culturally affiliated fraternities and sororities at Illinois (ex. Alpha Phi Gamma National Sorority Inc. \\[Asian affiilated\\]).\n",
      "\n",
      "Not all fraternities and sororities are Greek letter named (ex. the agriculture-focused FarmHouse International Fraternity, with its \"Illinois\" chapter), but most are.\n",
      "\n",
      "For more info about who/what they are, see this page: [https://fsaffairs.illinois.edu/organizations](https://fsaffairs.illinois.edu/organizations) \n",
      "\n",
      "Additionally, there are groups like Alpha Kappa Psi, which is a national business fraternity, and UofI has the Epsilon chapter on campus.  Business fraternities and the like are RSOs, not social fraternities, though they use the same naming convention.  There are also many Greek-letter honor societies like Phi Beta Kappa, which may be discipline specific, or multi-disciplinary, and have varying qualifications for acceptance. (Contribution: 0.9418448805809021)\n",
      " - i was told there were bangs then someone yelled for help. people barricaded themselves in and others ran. turned out someone fell on the stairs and needed medical help. no intruder (Contribution: 0.9399189949035645)\n",
      "\n",
      "\n",
      "Comments for Topic 6:\n",
      " - I'm not a student, so you should watch your assumptions there. Your original post references people below the poverty line - MTD is free for them. It's also free for seniors and has last-mile services for folks with accessibility issues (which Veo and similar pay services actually don't - because they're largely unusable for seniors, people with balance issues, etc.). \n",
      "\n",
      "As for your last paragraph - that's a straw man argument. If you have some actual data about the topic post it. Otherwise you're just making things up in a way that bolsters your argument disingenuously. Comparing a bus to an ebike would of course be ludicrous, but how about lifetime cost per user-trip for an MTD bus vs an equivalent number of user-trips for an escooter? Doubt you could find that data, but I imagine (because of economies of scale) the cost/benefit would be heavily weighted toward the bus as an inherently more efficient form of people mover at scale. \n",
      "\n",
      "And I do agree that people need to pick these up, but I disagree that these 'services' are a public good, which is what you're implying. They are profit-making enterprises, and nothing more, and any public support of them should be minimized so they survive (or fail) entirely on their own merits (and so public support can be provided where it's more appropriate - to publicly provided services like a mass-transit district). (Contribution: 0.9927235245704651)\n",
      " - Academics - let yourself be curious, go to office hours and ask good questions, but don’t limit yourself to what is in the curriculum. Go to the library and find books outside what you are assigned that peak your interest. While you don’t have a ton of time for this it can really help broaden your understanding of your field. You will have more resources available to you here than almost anytime in your life and most don’t take advantage of it.\n",
      "\n",
      "Outside of academics, that last point still stands. Your college years are some of the best for your own self discovery and development. Try as many different things as you can at least once. Don’t think you would like something? Well you never know until you try! If a friend mentions they are part of a club, be curious - ask what it is about and if you can tag along and see. You might find right away that the activity isn’t really for you and that is great to know! You might also find something that sparks a lifelong passion in you, but you never would have found it if you didn’t try.\n",
      "\n",
      "UIUC is extremely diverse, really try and take advantage of that and make friends who are not like you. While it is easy to simply find the people who are most like you, you might be pleasantly surprised to find amazing friendships or romantic relationships with those who are very different to you. You can learn so much simply by having a broad group of friends who are not all alike. This cross pollination of friend groups and interests can lead to some very fun times! (Contribution: 0.9917298555374146)\n",
      " - The principle stated here is good and doesn't warrant the neg votes. Imo should speak up once, if it happens again have the Prof or GSI give an announcement. It also helps set a standard for the class for other students who might need those seats, and also for those students to be aware in their other classes too. Mostly understandable to not want to have the burden of doing so. \n",
      "\n",
      "Diff of course is that in a bathroom you have few stalls, but in a classroom there are many non-accessible seats to take and leave those available. \n",
      "\n",
      "Very happy OP made this PSA, could just be the introverted version of the above to deal with your classroom situation hopefully through the grape vine at least.\n",
      "\n",
      "ETA: I was homeschooled and have social anxiety, and found practicing scripts or dialogue and thinking of myself from a third person perspective can help. Being assertive and having a situation go desirably doesn't have to be a privilege of assertive people.\n",
      "\n",
      "Also great opportunity for anyone in this thread to dive into the history of disability rights, UIUC features heavily in the curb cuts movement https://iadp.ahs.illinois.edu/history/ and I'll point out this documentary https://cripcamp.com/. There were real barriers to education that the general population just accepted as burdens to bear for those who weren't able-bodied. How will the future judge us for our sensibilities? (Contribution: 0.9910615682601929)\n",
      " - >*”intend on filling for residency after a year or so”*\n",
      "\n",
      "Keep in mind that you can’t simply “file for residency after a year or so.”\n",
      "\n",
      "To be considered an Illinois resident for purposes of admission/tuition you will need to be a bonafide resident of the state of Illinois for 12 continuous months PRIOR TO enrolling in any college or university in the state. That would mean that you — and your family, if you’re a dependent — would have to establish residency in Illinois for 12 full months prior to you enrolling in any college in the state.\n",
      "\n",
      "If merely attending school here qualified you as a resident, we’d all be “in-state” by sophomore year. (Contribution: 0.9836001992225647)\n",
      " - Here's Carle's table for assistance. Read more here: [https://carle.org/getmedia/2905a13b-470c-48ee-a087-ccdfc37cae2d/AD337-Carle-Regional-Financial-Assistance-Program.pdf](https://carle.org/getmedia/2905a13b-470c-48ee-a087-ccdfc37cae2d/AD337-Carle-Regional-Financial-Assistance-Program.pdf)\n",
      "\n",
      "||Income % Federal Poverty Level|||\n",
      "|:-|:-|:-|:-|\n",
      "||<= 200%|201 - 300%|301 - 400%|\n",
      "|Discount|100%|50%|Expenses capped a 40% gross income|\n",
      "\n",
      "Table for OSF assistance. Read more here: [https://osf-lcmmc.policystat.com/policy/token\\_access/65a974f7-7575-405e-b730-45d6f6c16368/](https://osf-lcmmc.policystat.com/policy/token_access/65a974f7-7575-405e-b730-45d6f6c16368/)\n",
      "\n",
      "||Income % Federal Poverty Level||||\n",
      "|:-|:-|:-|:-|:-|\n",
      "||<=250%|251 - 300%|301 - 350%|351 - 400%|\n",
      "|Discount|100%|75%|50%|25%| (Contribution: 0.9799267649650574)\n",
      "\n",
      "\n",
      "Comments for Topic 7:\n",
      " - `Bats are relatively harmless.`\n",
      "\n",
      "Let's pump the brakes. Sure, we don't hear of too many people getting and dying of it. However, if the bat does have rabies and it's transmitted to a human, once symptoms show, that person will not die humanely. This video shows what generally happens:\n",
      "\n",
      "[https://www.reddit.com/r/videos/comments/1ewktm/this\\_is\\_what\\_happens\\_when\\_a\\_person\\_becomes/](https://www.reddit.com/r/videos/comments/1ewktm/this_is_what_happens_when_a_person_becomes/)\n",
      "\n",
      "Rabies, in bats, is here in Champaign County. Rabies is a fatal, but very preventable with shots.\n",
      "\n",
      "`Animal control wont really be able to “trap” it “safely” so your only option might be opening your door. You may have to guide it out.`\n",
      "\n",
      "Maybe you're speaking to Champaign County Animal Control. However, Anything Wild Animal Control (who operates in CU and all of East Central IL) is effective in removing bats in homes, and bat-proofing, if needed. (Contribution: 0.9874764680862427)\n",
      " - I’m Aero, and I was in the same situation as you when I was a freshman. Only different was that I started with basic classes instead of what you taking rn. \n",
      "\n",
      "This is your first week of college. It’s gonna take time to adjust. Main things I’ll recommend is go to office hours, and meet people to form study groups. \n",
      "\n",
      "Calc 3 imo is not hard, just practice the material until you understand it. YouTube was a great resource for me when I took this class. MSE 280 on the other hand is one of those classes that suck, so you gonna have to lock it for that class. \n",
      "\n",
      "If you feel like you still struggling, talk to your advisor about adjusting your schedule so you can get into your college mentality. (Contribution: 0.98473060131073)\n",
      " - I'm surprised you're able to do mse280 as a freshman, it's a sophomore level class and Goodman is going to expect you to have already learned the study habits you need to be successful in college so that's why it's pretty tough. Also Goodman is not that great at teaching but he's your only option. Considering that you are ahead maybe you want to slow down and take fewer classes this first sem to get yourself acquainted (Contribution: 0.9762969017028809)\n",
      " - I’m so jealous!! I’m still learning to be comfortable alone. And it’s totally normal to be the way you are. The way I see it, so long as you are treating your time with respect, you’re not missing out. IE if you don’t go out bc you’re terminally online then like that’d be probably unhealthy by most metrics, but if you just genuinely enjoy your own company then like keep being you dude (Contribution: 0.9749751687049866)\n",
      " - If you’re happy the way things are, there’s no need to think about what might be if things were different. You have to do what’s best for you. Maybe now it’s taking that alone time and being happy with it, maybe in the future it’s being social. I’ve been at both places during my undergrad, and I’ve found that doing what I want in that time has been best. You’re not weird for wanting to be alone whatsoever (Contribution: 0.9742761850357056)\n",
      "\n",
      "\n",
      "Comments for Topic 8:\n",
      " - ^[Sokka-Haiku](https://www.reddit.com/r/SokkaHaikuBot/comments/15kyv9r/what_is_a_sokka_haiku/) ^by ^TaigasPantsu:\n",
      "\n",
      "*He’s been asking for*\n",
      "\n",
      "*Money to get to Danville*\n",
      "\n",
      "*For decades lol*\n",
      "\n",
      "---\n",
      "^Remember ^that ^one ^time ^Sokka ^accidentally ^used ^an ^extra ^syllable ^in ^that ^Haiku ^Battle ^in ^Ba ^Sing ^Se? ^That ^was ^a ^Sokka ^Haiku ^and ^you ^just ^made ^one. (Contribution: 0.9780402183532715)\n",
      " - Many admin in lower-paying non-teaching positions are overworked (inundated with emails) and under-compensated , maybe that’s where some of the tude is coming from? Hopefully you’ll encounter happier employees soon. (Contribution: 0.9570915102958679)\n",
      " - The Cosmo, Red's House, the Forest, and Concordia all hold shows pretty frequently. The house show venues all have instagram accounts, so you can follow along to find other bands and house shows. (Contribution: 0.9499279856681824)\n",
      " - Jubilee cafe Mondays 5:00-6:30\n",
      "\n",
      "University Place Christian Church Wednesdays 6:00-7:00\n",
      "\n",
      "Daily Bread Soup kitchen daily 10:30-12:30 (Contribution: 0.9470024704933167)\n",
      " - It's common shorthand for neurodivergent, I write it like a hundred times a week for paperwork, doctors, autism boards, etc so much that it's just how I type it out (Contribution: 0.939983606338501)\n",
      "\n",
      "\n",
      "Comments for Topic 9:\n",
      " - Treat it as a regular cold/flu so long as your symptoms stay mild! \n",
      "\n",
      "Rest, fluids, and OTC medicine like Dayquil/Nyquil. You should be ok by the end of this week.\n",
      "\n",
      "IF you develop a fever (note: a lot of people that I know, including myself, did not ever have a fever from this current round), just monitor it like you would any other cold/flu and respond accordingly.\n",
      "\n",
      "Understandably, we all have a lot of trauma and PTSD surrounding COVID, but we have come a long way since the pandemic, so try and get some rest and don't stress too much 🫶🏽\n",
      "\n",
      "I think we tend to forget it is completely natural for humans to get sick. Let your immune system kick COVID's butt 😊 (Contribution: 0.9852278232574463)\n",
      " - That is their business model. It has been a business model for the industry for decades. You could consider it tuition for your child learning a life lesson. There is no explanation that you are going to get that will seem satisfactory. Rather than wait for an explanation, either make a decision to move on and never look back or immediately file a small claims lawsuit, on your own, in Urbana. While using the lawyer might help, it's unlikely to be cost-effective, unless it's a free lawyer and then it may be less likely to be successful. (Contribution: 0.975651204586029)\n",
      " - No.\n",
      "\n",
      "⠀⠀⠀⠀⠀⠀⠀⠀⠀⠀⠀⠀⠀⠀⠀⠀⠀⠀⠀⠀⠀⠀⢀⣠⣤⣤⣤⣀⠀⠀⠀⠀⠀⠀⠀⠀⠀⠀⠀⠀⠀⠀⠀⠀⠀⠀⠀⠀⠀\n",
      "⠀⠀⠀⠀⠀⠀⠀⠀⠀⠀⠀⠀⠀⠀⠀⣀⣀⠀⠀⠀⢀⣴⠟⠉⠀⠀⠀⠈⠻⣦⡀⠀⠀⠀⣤⡀⠀⠀⠀⠀⠀⠀⠀⠀⠀⠀⠀⠀⠀\n",
      "⠀⠀⠀⠀⠀⠀⠀⠀⠀⠀⠀⠀⠀⠀⢸⣿⣿⣷⣀⢀⣾⠿⠻⢶⣄⠀⠀⣠⣶⡿⠶⣄⣠⣾⣿⠗⠀⠀⠀⠀⠀⠀⠀⠀⠀⠀⠀⠀⠀\n",
      "⠀⠀⠀⠀⠀⠀⠀⠀⠀⠀⠀⠀⠀⠀⠀⠀⠉⠉⢻⣿⣿⡿⣿⠿⣿⡿⢼⣿⣿⡿⣿⣎⡟⠉⠀⠀⠀⠀⠀⠀⠀⠀⠀⠀⠀⠀⠀⠀⠀\n",
      "⠀⠀⠀⠀⠀⠀⠀⠀⠀⠀⠀⠀⠀⠀⠀⠀⠀⠀⣼⡟⠉⠛⢛⣛⡉⠀⠀⠙⠛⠻⠛⠑⣷⠀⠀⠀⠀⠀⠀⠀⠀⠀⠀⠀⠀⠀⠀⠀⠀\n",
      "⠀⠀⠀⠀⠀⠀⠀⠀⠀⠀⠀⠀⠀⠀⠀⠀⠀⢠⣿⣧⣤⣴⠿⠿⣷⣤⡤⠴⠖⠳⣄⣀⣹⠀⠀⠀⠀⠀⠀⠀⠀⠀⠀⠀⠀⠀⠀⠀⠀\n",
      "⠀⠀⠀⠀⠀⠀⠀⠀⠀⠀⠀⠀⠀⠀⠀⠀⠀⠈⣿⣀⣟⠻⢦⣀⡀⠀⠀⠀⠀⣀⡈⠻⣿⠀⠀⠀⠀⠀⠀⠀⠀⠀⠀⠀⠀⠀⠀⠀⠀\n",
      "⠀⠀⠀⠀⠀⠀⠀⠀⠀⠀⠀⠀⠀⠀⠀⠀⢀⣼⡿⠉⡇⠀⠀⠛⠛⠛⠋⠉⠉⠀⠀⠀⠹⢧⡀⠀⠀⠀⠀⠀⠀⠀⠀⠀⠀⠀⠀⠀⠀\n",
      "⠀⠀⠀⠀⠀⠀⠀⠀⠀⠀⠀⠀⠀⠀⠀⢀⣾⡟⠀⢦⡀⠀⠀⠀⠀⠀⠀⠀⠀⠀⠀⠀⠃⠀⠈⠑⠪⠷⠤⣀⠀⠀⠀⠀⠀⠀⠀⠀⠀\n",
      "⠀⠀⠀⠀⠀⠀⠀⠀⠀⠀⠀⠀⢀⣠⣾⣿⣿⣿⣦⣼⠛⢦⣤⣄⡀⠀⠀⠀⠀⡀⠀⠀⠀⠀⠀⠀⠀⠀⠀⠀⠉⠑⠢⡀⠀⠀⠀⠀⠀\n",
      "⠀⠀⠀⠀⠀⠀⠀⢀⣠⠴⠲⠖⠛⠻⣿⡿⠛⠉⠉⠻⠷⣦⣽⠿⠿⠒⠚⠋⠉⠁⡞⠁⠀⠀⠀⠀⠀⠀⠀⠀⠀⠀⠀⠘⢦⠀⠀⠀⠀\n",
      "⠀⠀⠀⠀⠀⢀⣾⠛⠁⠀⠀⠀⠀⠀⠉⠀⠀⠀⠀⠀⠀⠀⠀⠀⠀⠀⠀⠤⠒⠉⠀⠀⠀⠀⠀⠀⠀⠀⠀⠀⠀⠀⠀⠀⠈⢣⠀⠀⠀\n",
      "⠀⠀⠀⠀⣰⡿⠃⠀⠀⠀⠀⠀⠀⠀⠀⠀⠀⠀⠀⠀⠀⠀⠀⠀⣑⠀⠀⠀⠀⠀⠀⠀⠀⠀⠀⠀⠀⠀⠀⠀⠀⠀⠀⠀⠀⠈⡇⠀⠀\n",
      "⠀⠀⠀⣰⣿⣁⠀⠀⠀⠀⠀⠀⠀⠀⠀⠀⠀⠀⠀⠀⠀⠀⠀⠀⣷⠀⠀⠀⠀⠀⠀⠀⠀⠀⠀⠀⠀⣾⣧⣄⠀⠀⠀⠀⠀⠀⢳⡀⠀\n",
      "⠀⠀⠀⣿⡾⢿⣀⢀⣀⣦⣾⠃⠀⠀⠀⠀⠀⠀⠀⠀⠀⠀⠀⠀⣾⣀⠀⠀⠀⠀⠀⠀⠀⠀⠀⡰⣫⣿⡿⠟⠻⠶⠀⠀⠀⠀⠀⢳⠀\n",
      "⠀⠀⢀⣿⣧⡾⣿⣿⣿⣿⣿⡷⣶⣤⡀⠀⠀⠀⠀⠀⠀⠀⢀⡴⢿⣿⣧⠀⡀⠀⢀⣀⣀⢒⣤⣶⣿⣿⠁⠀⠀⠀⠀⠀⠀⠀⠀⠀⡇\n",
      "⠀⠀⡾⠁⠙⣿⡈⠉⠙⣿⣿⣷⣬⡛⢿⣶⣶⣴⣶⣶⣶⣤⣤⠤⠾⣿⣿⣿⡿⠿⣿⠿⢿⣿⣿⣿⣿⣧⠀⠀⠀⠀⠀⠀⠀⠀⠀⠀⡇\n",
      "⠀⣸⠃⠀⠀⢸⠃⠀⠀⢸⣿⣿⣿⣿⣿⣿⣷⣾⣿⣿⠟⡉⠀⠀⠀⠈⠙⠛⠻⢿⣿⣿⣿⣿⣿⣿⣿⣿⠀⠀⠀⠀⠀⠀⠀⠀⠀⠀⡇\n",
      "⠀⣿⠀⠀⢀⡏⠀⠀⠀⢸⣿⣿⣿⣿⣿⣿⣿⠿⠿⠛⠛⠉⠁⠀⠀⠀⠀⠀⠉⠠⠿⠟⠻⠟⠋⠉⢿⣿⣦⡀⢰⡀⠀⠀⠀⠀⠀⠀⠁\n",
      "⢀⣿⡆⢀⡾⠀⠀⠀⠀⣾⠏⢿⣿⣿⣿⣯⣙⢷⡄⠀⠀⠀⠀⠀⢸⡄⠀⠀⠀⠀⠀⠀⠀⠀⢀⣤⣿⣻⢿⣷⣀⣷⣄⠀⠀⠀⠀⢸⠀\n",
      "⢸⠃⠠⣼⠃⠀⠀⣠⣾⡟⠀⠈⢿⣿⡿⠿⣿⣿⡿⠿⠿⠿⠷⣄⠈⠿⠛⠻⠶⢶⣄⣀⣀⡠⠈⢛⡿⠃⠈⢿⣿⣿⡿⠀⠀⠀⠀⠀⡀\n",
      "⠟⠀⠀⢻⣶⣶⣾⣿⡟⠁⠀⠀⢸⣿⢅⠀⠈⣿⡇⠀⠀⠀⠀⠀⣷⠂⠀⠀⠀⠀⠐⠋⠉⠉⠀⢸⠁⠀⠀⠀⢻⣿⠛⠀⠀⠀⠀⢀⠇\n",
      "⠀⠀⠀⠀⠹⣿⣿⠋⠀⠀⠀⠀⢸⣧⠀⠰⡀⢸⣷⣤⣤⡄⠀⠀⣿⡀⠀⠀⠀⠀⠀⠀⠀⠀⢀⡆⠀⠀⠀⠀⡾⠀⠀⠀⠀⠀⠀⢼⡇\n",
      "⠀⠀⠀⠀⠀⠙⢻⠄⠀⠀⠀⠀⣿⠉⠀⠀⠈⠓⢯⡉⠉⠉⢱⣶⠏⠙⠛⠚⠁⠀⠀⠀⠀⠀⣼⠇⠀⠀⠀⢀⡇⠀⠀⠀⠀⠀⠀⠀⡇\n",
      "⠀⠀⠀⠀⠀⠀⠻⠄⠀⠀⠀⢀⣿⠀⢠⡄⠀⠀⠀⣁⠁⡀⠀⢠⠀⠀⠀⠀⠀⠀⠀⠀⢀⣐⡟⠀⠀⠀⠀⢸⡇⠀⠀⠀⠀⠀⠀⢠⡇ (Contribution: 0.9666098356246948)\n",
      " - I don’t want to say too much details but he had a pretty valid excuse (not something abt he’s sick, not feeling well etc.) and also now I feel anxious abt if his excuse is real or just a way to not meet me. Idk if u feel me. (Contribution: 0.963978111743927)\n",
      " - Sounds like it still could be COVID. You should re-test in 24-48 hours. I mask everywhere on campus because I can't afford to catch COVID or whatever else is going around. I will never understand why people think it's OK to go out and spread this stuff around. (Contribution: 0.9608396291732788)\n",
      "\n",
      "\n"
     ]
    }
   ],
   "source": [
    "\n",
    "for topic_num in sorted(dominant_topics_df['Dominant_Topic'].unique()):\n",
    "    print(f\"Comments for Topic {topic_num}:\")\n",
    "    highest_contrib_comments = dominant_topics_df[dominant_topics_df['Dominant_Topic'] == topic_num].sort_values(by='Perc_Contribution', ascending=False).head()\n",
    "    for index, row in highest_contrib_comments.iterrows():\n",
    "        print(f\" - {row['Text']} (Contribution: {row['Perc_Contribution']})\")\n",
    "    print(\"\\n\")"
   ]
  },
  {
   "cell_type": "markdown",
   "metadata": {},
   "source": [
    "\n",
    "- **Topic 0** seems to capture **Personal Challenges and Practical Tips**, highlighting how students navigate personal struggles and share advice on dealing with everyday campus life.\n",
    "- **Topic 1** focuses on **Information Sharing and Community Resources**, where students and community members exchange detailed information, helpful tips, and resources related to weather, health, and local services.\n",
    "- **Topic 2** revolves around **Socializing and Making Connections**, discussing the challenges of making friends, connecting with others, and sharing course recommendations.\n",
    "\n",
    "The topic model effectively distinguished between different facets of university life, from personal and social challenges to the sharing of valuable information within the UIUC community. The comments strongly aligned with their respective topics, demonstrating the model's ability to capture and highlight significant themes in the community discussions."
   ]
  },
  {
   "cell_type": "code",
   "execution_count": null,
   "metadata": {},
   "outputs": [],
   "source": []
  },
  {
   "cell_type": "code",
   "execution_count": null,
   "metadata": {},
   "outputs": [],
   "source": []
  },
  {
   "cell_type": "code",
   "execution_count": null,
   "metadata": {},
   "outputs": [],
   "source": []
  }
 ],
 "metadata": {
  "kernelspec": {
   "display_name": "is310",
   "language": "python",
   "name": "python3"
  },
  "language_info": {
   "codemirror_mode": {
    "name": "ipython",
    "version": 3
   },
   "file_extension": ".py",
   "mimetype": "text/x-python",
   "name": "python",
   "nbconvert_exporter": "python",
   "pygments_lexer": "ipython3",
   "version": "3.11.7"
  }
 },
 "nbformat": 4,
 "nbformat_minor": 2
}
